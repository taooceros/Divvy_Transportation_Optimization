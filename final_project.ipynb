{
 "cells": [
  {
   "attachments": {},
   "cell_type": "markdown",
   "metadata": {},
   "source": [
    "# Introduction\n",
    "\n",
    "**TODO**"
   ]
  },
  {
   "attachments": {},
   "cell_type": "markdown",
   "metadata": {},
   "source": [
    "# Data Extraction"
   ]
  },
  {
   "cell_type": "code",
   "execution_count": null,
   "metadata": {},
   "outputs": [],
   "source": [
    "# Install Packages\n",
    "# You might need to install r before running this script\n",
    "\n",
    "using Pkg\n",
    "\n",
    "Pkg.add(\"CSV\")\n",
    "Pkg.add(\"DataFrames\")\n",
    "Pkg.add(\"DataFramesMeta\")\n",
    "Pkg.add(\"StringCases\")"
   ]
  },
  {
   "cell_type": "code",
   "execution_count": 19,
   "metadata": {},
   "outputs": [],
   "source": [
    "using CSV\n",
    "using DataFrames\n",
    "using DataFramesMeta\n",
    "using StringCases"
   ]
  },
  {
   "cell_type": "code",
   "execution_count": null,
   "metadata": {},
   "outputs": [],
   "source": [
    "trips = CSV.read(\"202205-divvy-tripdata.csv\", DataFrame)\n",
    "stations = CSV.read(\"Divvy_Bicycle_Stations.csv\", DataFrame)\n",
    "\n",
    "# rename upper case sepearated by space to lower case separated by underscore\n",
    "\n",
    "function snake_case(camelstring::S) where S<:AbstractString\n",
    "    wordpat = r\"\n",
    "    ^[a-z]+ |                  #match initial lower case part\n",
    "    [A-Z][a-z]+ |              #match Words Like This\n",
    "    \\d*([A-Z](?=[A-Z]|$))+ |   #match ABBREV 30MW \n",
    "    \\d+                        #match 1234 (numbers without units)\n",
    "    \"x\n",
    "  \n",
    "    smartlower(word) = any(islowercase, word) ? lowercase(word) : word\n",
    "    words = [smartlower(m.match) for m in eachmatch(wordpat, camelstring)]\n",
    "  \n",
    "    join(words, \"_\")\n",
    "end\n",
    "\n",
    "for name in names(stations)\n",
    "    rename!(stations, name => snake_case(name))\n",
    "end\n",
    "\n",
    "rename!(stations, \"ID\" => \"id\")\n",
    "@transform!(stations, :id = string.(stations.id))"
   ]
  },
  {
   "cell_type": "code",
   "execution_count": 70,
   "metadata": {},
   "outputs": [
    {
     "name": "stderr",
     "output_type": "stream",
     "text": [
      "┌ Warning: Using an un-quoted Symbol on the LHS is deprecated. Write :n = ... instead.\n",
      "└ @ DataFramesMeta C:\\Users\\hongtao\\.julia\\packages\\DataFramesMeta\\nI3Y1\\src\\parsing.jl:373\n",
      "┌ Warning: Using an un-quoted Symbol on the LHS is deprecated. Write :n = ... instead.\n",
      "└ @ DataFramesMeta C:\\Users\\hongtao\\.julia\\packages\\DataFramesMeta\\nI3Y1\\src\\parsing.jl:373\n"
     ]
    },
    {
     "data": {
      "text/html": [
       "<div><div style = \"float: left;\"><span>305×5 DataFrame</span></div><div style = \"float: right;\"><span style = \"font-style: italic;\">280 rows omitted</span></div><div style = \"clear: both;\"></div></div><div class = \"data-frame\" style = \"overflow-x: scroll;\"><table class = \"data-frame\" style = \"margin-bottom: 6px;\"><thead><tr class = \"header\"><th class = \"rowNumber\" style = \"font-weight: bold; text-align: right;\">Row</th><th style = \"text-align: left;\">id</th><th style = \"text-align: left;\">n_start</th><th style = \"text-align: left;\">n_end</th><th style = \"text-align: left;\">latitude</th><th style = \"text-align: left;\">longitude</th></tr><tr class = \"subheader headerLastRow\"><th class = \"rowNumber\" style = \"font-weight: bold; text-align: right;\"></th><th title = \"String\" style = \"text-align: left;\">String</th><th title = \"Union{Missing, Int64}\" style = \"text-align: left;\">Int64?</th><th title = \"Union{Missing, Int64}\" style = \"text-align: left;\">Int64?</th><th title = \"Float64\" style = \"text-align: left;\">Float64</th><th title = \"Float64\" style = \"text-align: left;\">Float64</th></tr></thead><tbody><tr><td class = \"rowNumber\" style = \"font-weight: bold; text-align: right;\">1</td><td style = \"text-align: left;\">641</td><td style = \"text-align: right;\">2</td><td style = \"text-align: right;\">2</td><td style = \"text-align: right;\">41.9142</td><td style = \"text-align: right;\">-87.7168</td></tr><tr><td class = \"rowNumber\" style = \"font-weight: bold; text-align: right;\">2</td><td style = \"text-align: left;\">367</td><td style = \"text-align: right;\">2</td><td style = \"text-align: right;\">3</td><td style = \"text-align: right;\">41.8307</td><td style = \"text-align: right;\">-87.6562</td></tr><tr><td class = \"rowNumber\" style = \"font-weight: bold; text-align: right;\">3</td><td style = \"text-align: left;\">648</td><td style = \"text-align: right;\">1</td><td style = \"text-align: right;\">1</td><td style = \"text-align: right;\">41.7799</td><td style = \"text-align: right;\">-87.6509</td></tr><tr><td class = \"rowNumber\" style = \"font-weight: bold; text-align: right;\">4</td><td style = \"text-align: left;\">427</td><td style = \"text-align: right;\">5</td><td style = \"text-align: right;\">1</td><td style = \"text-align: right;\">41.7805</td><td style = \"text-align: right;\">-87.606</td></tr><tr><td class = \"rowNumber\" style = \"font-weight: bold; text-align: right;\">5</td><td style = \"text-align: left;\">644</td><td style = \"text-align: right;\">580</td><td style = \"text-align: right;\">598</td><td style = \"text-align: right;\">41.8686</td><td style = \"text-align: right;\">-87.6862</td></tr><tr><td class = \"rowNumber\" style = \"font-weight: bold; text-align: right;\">6</td><td style = \"text-align: left;\">503</td><td style = \"text-align: right;\">9</td><td style = \"text-align: right;\">10</td><td style = \"text-align: right;\">41.9248</td><td style = \"text-align: right;\">-87.7145</td></tr><tr><td class = \"rowNumber\" style = \"font-weight: bold; text-align: right;\">7</td><td style = \"text-align: left;\">643</td><td style = \"text-align: right;\">251</td><td style = \"text-align: right;\">283</td><td style = \"text-align: right;\">41.892</td><td style = \"text-align: right;\">-87.6894</td></tr><tr><td class = \"rowNumber\" style = \"font-weight: bold; text-align: right;\">8</td><td style = \"text-align: left;\">640</td><td style = \"text-align: right;\">1</td><td style = \"text-align: right;\">1</td><td style = \"text-align: right;\">41.9499</td><td style = \"text-align: right;\">-87.7139</td></tr><tr><td class = \"rowNumber\" style = \"font-weight: bold; text-align: right;\">9</td><td style = \"text-align: left;\">658</td><td style = \"text-align: right;\">544</td><td style = \"text-align: right;\">438</td><td style = \"text-align: right;\">41.903</td><td style = \"text-align: right;\">-87.6838</td></tr><tr><td class = \"rowNumber\" style = \"font-weight: bold; text-align: right;\">10</td><td style = \"text-align: left;\">637</td><td style = \"text-align: right;\">805</td><td style = \"text-align: right;\">762</td><td style = \"text-align: right;\">41.8956</td><td style = \"text-align: right;\">-87.6721</td></tr><tr><td class = \"rowNumber\" style = \"font-weight: bold; text-align: right;\">11</td><td style = \"text-align: left;\">690</td><td style = \"text-align: right;\">2</td><td style = \"text-align: right;\">2</td><td style = \"text-align: right;\">41.7218</td><td style = \"text-align: right;\">-87.6229</td></tr><tr><td class = \"rowNumber\" style = \"font-weight: bold; text-align: right;\">12</td><td style = \"text-align: left;\">566</td><td style = \"text-align: right;\">16</td><td style = \"text-align: right;\">15</td><td style = \"text-align: right;\">41.7593</td><td style = \"text-align: right;\">-87.6736</td></tr><tr><td class = \"rowNumber\" style = \"font-weight: bold; text-align: right;\">13</td><td style = \"text-align: left;\">650</td><td style = \"text-align: right;\">23</td><td style = \"text-align: right;\">9</td><td style = \"text-align: right;\">41.7689</td><td style = \"text-align: right;\">-87.6359</td></tr><tr><td style = \"text-align: right;\">&vellip;</td><td style = \"text-align: right;\">&vellip;</td><td style = \"text-align: right;\">&vellip;</td><td style = \"text-align: right;\">&vellip;</td><td style = \"text-align: right;\">&vellip;</td><td style = \"text-align: right;\">&vellip;</td></tr><tr><td class = \"rowNumber\" style = \"font-weight: bold; text-align: right;\">294</td><td style = \"text-align: left;\">495</td><td style = \"text-align: right;\">15</td><td style = \"text-align: right;\">12</td><td style = \"text-align: right;\">41.9611</td><td style = \"text-align: right;\">-87.729</td></tr><tr><td class = \"rowNumber\" style = \"font-weight: bold; text-align: right;\">295</td><td style = \"text-align: left;\">494</td><td style = \"text-align: right;\">12</td><td style = \"text-align: right;\">13</td><td style = \"text-align: right;\">41.9822</td><td style = \"text-align: right;\">-87.7089</td></tr><tr><td class = \"rowNumber\" style = \"font-weight: bold; text-align: right;\">296</td><td style = \"text-align: left;\">499</td><td style = \"text-align: right;\">32</td><td style = \"text-align: right;\">34</td><td style = \"text-align: right;\">41.9306</td><td style = \"text-align: right;\">-87.7238</td></tr><tr><td class = \"rowNumber\" style = \"font-weight: bold; text-align: right;\">297</td><td style = \"text-align: left;\">500</td><td style = \"text-align: right;\">35</td><td style = \"text-align: right;\">32</td><td style = \"text-align: right;\">41.9353</td><td style = \"text-align: right;\">-87.7169</td></tr><tr><td class = \"rowNumber\" style = \"font-weight: bold; text-align: right;\">298</td><td style = \"text-align: left;\">385</td><td style = \"text-align: right;\">25</td><td style = \"text-align: right;\">29</td><td style = \"text-align: right;\">41.795</td><td style = \"text-align: right;\">-87.6331</td></tr><tr><td class = \"rowNumber\" style = \"font-weight: bold; text-align: right;\">299</td><td style = \"text-align: left;\">501</td><td style = \"text-align: right;\">24</td><td style = \"text-align: right;\">24</td><td style = \"text-align: right;\">41.9319</td><td style = \"text-align: right;\">-87.7012</td></tr><tr><td class = \"rowNumber\" style = \"font-weight: bold; text-align: right;\">300</td><td style = \"text-align: left;\">414</td><td style = \"text-align: right;\">13</td><td style = \"text-align: right;\">9</td><td style = \"text-align: right;\">41.8703</td><td style = \"text-align: right;\">-87.6395</td></tr><tr><td class = \"rowNumber\" style = \"font-weight: bold; text-align: right;\">301</td><td style = \"text-align: left;\">388</td><td style = \"text-align: right;\">16</td><td style = \"text-align: right;\">12</td><td style = \"text-align: right;\">41.7794</td><td style = \"text-align: right;\">-87.6446</td></tr><tr><td class = \"rowNumber\" style = \"font-weight: bold; text-align: right;\">302</td><td style = \"text-align: left;\">560</td><td style = \"text-align: right;\">13</td><td style = \"text-align: right;\">14</td><td style = \"text-align: right;\">41.7868</td><td style = \"text-align: right;\">-87.6662</td></tr><tr><td class = \"rowNumber\" style = \"font-weight: bold; text-align: right;\">303</td><td style = \"text-align: left;\">693</td><td style = \"text-align: right;\">17</td><td style = \"text-align: right;\">13</td><td style = \"text-align: right;\">41.7373</td><td style = \"text-align: right;\">-87.5485</td></tr><tr><td class = \"rowNumber\" style = \"font-weight: bold; text-align: right;\">304</td><td style = \"text-align: left;\">718</td><td style = \"text-align: right;\">1</td><td style = \"text-align: right;\">1</td><td style = \"text-align: right;\">41.7127</td><td style = \"text-align: right;\">-87.5348</td></tr><tr><td class = \"rowNumber\" style = \"font-weight: bold; text-align: right;\">305</td><td style = \"text-align: left;\">762</td><td style = \"text-align: right;\">4</td><td style = \"text-align: right;\">2</td><td style = \"text-align: right;\">41.8836</td><td style = \"text-align: right;\">-87.6486</td></tr></tbody></table></div>"
      ],
      "text/latex": [
       "\\begin{tabular}{r|ccccc}\n",
       "\t& id & n\\_start & n\\_end & latitude & longitude\\\\\n",
       "\t\\hline\n",
       "\t& String & Int64? & Int64? & Float64 & Float64\\\\\n",
       "\t\\hline\n",
       "\t1 & 641 & 2 & 2 & 41.9142 & -87.7168 \\\\\n",
       "\t2 & 367 & 2 & 3 & 41.8307 & -87.6562 \\\\\n",
       "\t3 & 648 & 1 & 1 & 41.7799 & -87.6509 \\\\\n",
       "\t4 & 427 & 5 & 1 & 41.7805 & -87.606 \\\\\n",
       "\t5 & 644 & 580 & 598 & 41.8686 & -87.6862 \\\\\n",
       "\t6 & 503 & 9 & 10 & 41.9248 & -87.7145 \\\\\n",
       "\t7 & 643 & 251 & 283 & 41.892 & -87.6894 \\\\\n",
       "\t8 & 640 & 1 & 1 & 41.9499 & -87.7139 \\\\\n",
       "\t9 & 658 & 544 & 438 & 41.903 & -87.6838 \\\\\n",
       "\t10 & 637 & 805 & 762 & 41.8956 & -87.6721 \\\\\n",
       "\t11 & 690 & 2 & 2 & 41.7218 & -87.6229 \\\\\n",
       "\t12 & 566 & 16 & 15 & 41.7593 & -87.6736 \\\\\n",
       "\t13 & 650 & 23 & 9 & 41.7689 & -87.6359 \\\\\n",
       "\t14 & 664 & 2 & 1 & 41.9394 & -87.6833 \\\\\n",
       "\t15 & 656 & 1 & 1 & 41.886 & -87.677 \\\\\n",
       "\t16 & 649 & 22 & 16 & 41.7798 & -87.6348 \\\\\n",
       "\t17 & 632 & 2841 & 2789 & 41.9445 & -87.6547 \\\\\n",
       "\t18 & 654 & 634 & 548 & 41.8831 & -87.657 \\\\\n",
       "\t19 & 446 & 137 & 129 & 41.8415 & -87.6851 \\\\\n",
       "\t20 & 759 & 1 & 3 & 41.9324 & -87.6527 \\\\\n",
       "\t21 & 763 & 1 & 0 & 41.8855 & -87.6523 \\\\\n",
       "\t22 & 655 & 301 & 315 & 41.9799 & -87.6819 \\\\\n",
       "\t23 & 646 & 58 & 47 & 41.7966 & -87.6259 \\\\\n",
       "\t24 & 677 & 3 & 4 & 41.7437 & -87.6341 \\\\\n",
       "\t$\\dots$ & $\\dots$ & $\\dots$ & $\\dots$ & $\\dots$ & $\\dots$ \\\\\n",
       "\\end{tabular}\n"
      ],
      "text/plain": [
       "\u001b[1m305×5 DataFrame\u001b[0m\n",
       "\u001b[1m Row \u001b[0m│\u001b[1m id     \u001b[0m\u001b[1m n_start \u001b[0m\u001b[1m n_end  \u001b[0m\u001b[1m latitude \u001b[0m\u001b[1m longitude \u001b[0m\n",
       "     │\u001b[90m String \u001b[0m\u001b[90m Int64?  \u001b[0m\u001b[90m Int64? \u001b[0m\u001b[90m Float64  \u001b[0m\u001b[90m Float64   \u001b[0m\n",
       "─────┼──────────────────────────────────────────────\n",
       "   1 │ 641           2       2   41.9142   -87.7168\n",
       "   2 │ 367           2       3   41.8307   -87.6562\n",
       "   3 │ 648           1       1   41.7799   -87.6509\n",
       "   4 │ 427           5       1   41.7805   -87.606\n",
       "   5 │ 644         580     598   41.8686   -87.6862\n",
       "   6 │ 503           9      10   41.9248   -87.7145\n",
       "   7 │ 643         251     283   41.892    -87.6894\n",
       "   8 │ 640           1       1   41.9499   -87.7139\n",
       "  ⋮  │   ⋮        ⋮       ⋮        ⋮          ⋮\n",
       " 299 │ 501          24      24   41.9319   -87.7012\n",
       " 300 │ 414          13       9   41.8703   -87.6395\n",
       " 301 │ 388          16      12   41.7794   -87.6446\n",
       " 302 │ 560          13      14   41.7868   -87.6662\n",
       " 303 │ 693          17      13   41.7373   -87.5485\n",
       " 304 │ 718           1       1   41.7127   -87.5348\n",
       " 305 │ 762           4       2   41.8836   -87.6486\n",
       "\u001b[36m                                    290 rows omitted\u001b[0m"
      ]
     },
     "metadata": {},
     "output_type": "display_data"
    }
   ],
   "source": [
    "using DataFramesMeta\n",
    "\n",
    "station_start = @chain trips begin\n",
    "    groupby(:start_station_id)\n",
    "    @combine(n = length(:ride_id))\n",
    "end\n",
    "\n",
    "station_end = @chain trips begin\n",
    "    groupby(:end_station_id)\n",
    "    @combine(n = length(:ride_id))\n",
    "end\n",
    "\n",
    "@rename!(station_start, :id = :start_station_id)\n",
    "@rename!(station_start, :n_start = :n)\n",
    "@rename!(station_end, :id = :end_station_id)\n",
    "@rename!(station_end, :n_end = :n)\n",
    "\n",
    "dropmissing!(station_start)\n",
    "dropmissing!(station_end)\n",
    "\n",
    "station = @chain station_start begin\n",
    "    outerjoin(station_end, on = :id)\n",
    "    innerjoin(stations, on = :id)\n",
    "    @select(:id, :n_start, :n_end, :latitude, :longitude)\n",
    "end\n",
    "\n",
    "replace!(station.n_start, missing => 0)\n",
    "replace!(station.n_end, missing => 0)\n",
    "\n",
    "station"
   ]
  },
  {
   "cell_type": "code",
   "execution_count": 71,
   "metadata": {},
   "outputs": [
    {
     "name": "stderr",
     "output_type": "stream",
     "text": [
      "┌ Warning: Using an un-quoted Symbol on the LHS is deprecated. Write :supply = ... instead.\n",
      "└ @ DataFramesMeta C:\\Users\\hongtao\\.julia\\packages\\DataFramesMeta\\nI3Y1\\src\\parsing.jl:373\n",
      "┌ Warning: Using an un-quoted Symbol on the LHS is deprecated. Write :demand = ... instead.\n",
      "└ @ DataFramesMeta C:\\Users\\hongtao\\.julia\\packages\\DataFramesMeta\\nI3Y1\\src\\parsing.jl:373\n"
     ]
    },
    {
     "data": {
      "text/html": [
       "<div><div style = \"float: left;\"><span>1×2 DataFrame</span></div><div style = \"clear: both;\"></div></div><div class = \"data-frame\" style = \"overflow-x: scroll;\"><table class = \"data-frame\" style = \"margin-bottom: 6px;\"><thead><tr class = \"header\"><th class = \"rowNumber\" style = \"font-weight: bold; text-align: right;\">Row</th><th style = \"text-align: left;\">supply</th><th style = \"text-align: left;\">demand</th></tr><tr class = \"subheader headerLastRow\"><th class = \"rowNumber\" style = \"font-weight: bold; text-align: right;\"></th><th title = \"Int64\" style = \"text-align: left;\">Int64</th><th title = \"Int64\" style = \"text-align: left;\">Int64</th></tr></thead><tbody><tr><td class = \"rowNumber\" style = \"font-weight: bold; text-align: right;\">1</td><td style = \"text-align: right;\">28707</td><td style = \"text-align: right;\">27371</td></tr></tbody></table></div>"
      ],
      "text/latex": [
       "\\begin{tabular}{r|cc}\n",
       "\t& supply & demand\\\\\n",
       "\t\\hline\n",
       "\t& Int64 & Int64\\\\\n",
       "\t\\hline\n",
       "\t1 & 28707 & 27371 \\\\\n",
       "\\end{tabular}\n"
      ],
      "text/plain": [
       "\u001b[1m1×2 DataFrame\u001b[0m\n",
       "\u001b[1m Row \u001b[0m│\u001b[1m supply \u001b[0m\u001b[1m demand \u001b[0m\n",
       "     │\u001b[90m Int64  \u001b[0m\u001b[90m Int64  \u001b[0m\n",
       "─────┼────────────────\n",
       "   1 │  28707   27371"
      ]
     },
     "metadata": {},
     "output_type": "display_data"
    }
   ],
   "source": [
    "@chain station begin\n",
    "    @combine(supply = sum(:n_start), demand = sum(:n_end))\n",
    "end"
   ]
  },
  {
   "attachments": {},
   "cell_type": "markdown",
   "metadata": {},
   "source": [
    "# Locations of Divvy Stations\n",
    "\n"
   ]
  },
  {
   "attachments": {},
   "cell_type": "markdown",
   "metadata": {},
   "source": [
    "<p align=\"center\">\n",
    "  <img src=\"stations_divvy.svg\" alt=\"Divvy Stations\"/>\n",
    "</p>"
   ]
  }
 ],
 "metadata": {
  "kernelspec": {
   "display_name": "Julia 1.8.5",
   "language": "julia",
   "name": "julia-1.8"
  },
  "language_info": {
   "file_extension": ".jl",
   "mimetype": "application/julia",
   "name": "julia",
   "version": "1.8.5"
  },
  "orig_nbformat": 4
 },
 "nbformat": 4,
 "nbformat_minor": 2
}
